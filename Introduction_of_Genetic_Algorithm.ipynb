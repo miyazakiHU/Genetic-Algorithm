{
  "nbformat": 4,
  "nbformat_minor": 0,
  "metadata": {
    "colab": {
      "name": "Introduction_of_Genetic_Algorithm.ipynb",
      "provenance": [],
      "collapsed_sections": []
    },
    "kernelspec": {
      "name": "python3",
      "display_name": "Python 3"
    }
  },
  "cells": [
    {
      "cell_type": "markdown",
      "metadata": {
        "id": "fZwA6Ci7V2bi"
      },
      "source": [
        "# **注意！**\n",
        "本動画は，大学のゼミで発表する内容を録画したものであり，以下の知識を前提としています。<br>\n",
        "・Pythonの基本的な使い方<br>\n",
        "・Numpyの　　　〃<br>\n",
        "・行列の演算（これはなくても大丈夫かも）<br>\n",
        "\n",
        "これらの内容に不安のある方は，この動画の前に，それらを勉強されることをおすすめします。<br>\n",
        "YouTubeで検索すると素晴らしい動画がたくさん出てきます！"
      ]
    },
    {
      "cell_type": "markdown",
      "metadata": {
        "id": "DjzkQHJOZKja"
      },
      "source": [
        "# 遺伝的アルゴリズムとブルートフォースサーチ\n",
        "### 目標：0-1ナップザック問題（解が0と1の配列であらわされるナップザック問題）を上記の2つの方法で解き，両者の長所と短所を理解する。また，遺伝的アルゴリズムのハイパーパラメータの役割を理解する。\n"
      ]
    },
    {
      "cell_type": "code",
      "metadata": {
        "id": "KST0RrQaZYAs"
      },
      "source": [
        "import numpy as np\n",
        "import matplotlib.pyplot as plt\n",
        "from tqdm import tqdm  # importすると進捗状況が表示される\n",
        "import random, itertools"
      ],
      "execution_count": null,
      "outputs": []
    },
    {
      "cell_type": "markdown",
      "metadata": {
        "id": "atIpll5Hoipt"
      },
      "source": [
        "# 0-1 ナップザック問題\n",
        "仮定1：すべての物品は重さと価値を持つ。<br>\n",
        "仮定2：すべての物品は1つしかない。<br>\n",
        "仮定3：ナップザックに入れられる物品の総重量には制限がある。<br>\n",
        "\n",
        "※以下，物品の総重量を一定以下に抑えつつ，合計価値が最も高くなるように物品を詰め込んだ状態を「最適」と定義する。また，その時の合計価値・合計重量・物品の組み合わせをそれぞれ「最適価値（又は最適スコア）・最適重量・最適解」と定義する。"
      ]
    },
    {
      "cell_type": "markdown",
      "metadata": {
        "id": "k0XQgjpurDol"
      },
      "source": [
        "# 実際にナップザック問題を定義してみる。\n"
      ]
    },
    {
      "cell_type": "code",
      "metadata": {
        "id": "FOxhujGJqgIx"
      },
      "source": [
        "weight = [750,700,900,600,1200,1250,\n",
        "          1850,2050,1750,2700,3150]\n",
        "\n",
        "value = [7,6,10,10,22,17,23,27,20,33,36]"
      ],
      "execution_count": null,
      "outputs": []
    },
    {
      "cell_type": "markdown",
      "metadata": {
        "id": "1Z9tCHRbtKK_"
      },
      "source": [
        "https://blog.brainpad.co.jp/entry/2020/10/09/000002 を参考にした。最適価値は「72」らしい。 "
      ]
    },
    {
      "cell_type": "markdown",
      "metadata": {
        "id": "Hk1q4YPwOEXq"
      },
      "source": [
        "# 最適解を総当たり（ブルートフォース）で求めてみる\n",
        "ポイント：itertoolsで，[0, 1] の直積を計算する。以下の例を参照。\n",
        "\n",
        "```\n",
        ">>>print(list(itertools.product([0,1], repeat=3)))\n",
        "[(0, 0, 0), (0, 0, 1), (0, 1, 0), (0, 1, 1), (1, 0, 0), (1, 0, 1), (1, 1, 0), (1, 1, 1)]\n",
        "```\n",
        "\n",
        "itertoolsについて：https://qiita.com/anmint/items/37ca0ded5e1d360b51f3<br>\n",
        "直積の数学的定義について：https://mathwords.net/tyokusekisyugou"
      ]
    },
    {
      "cell_type": "code",
      "metadata": {
        "colab": {
          "base_uri": "https://localhost:8080/"
        },
        "id": "Nv32iXud_Utr",
        "outputId": "de9b7ea4-f0cc-41ef-99c8-9486cacade23"
      },
      "source": [
        "def BruteFroce(w_func, v_func, s_func, length):\n",
        "    candidates = np.array(list(itertools.product([0,1], repeat=GENE_LENGTH)))\n",
        "\n",
        "    # スコアを算出\n",
        "    w_sum = w_func(candidates)\n",
        "    v_sum = v_func(candidates)\n",
        "    score = s_func(w_sum, v_sum)\n",
        "\n",
        "    # 最良解を取得\n",
        "    solution_index = np.argmax(score)\n",
        "    best_solution = candidates[solution_index, ]\n",
        "\n",
        "    # 結果を出力\n",
        "    print(f\"最適重量：{w_func(best_solution)}\")\n",
        "    print(f\"最適スコア：{v_func(best_solution)}\")\n",
        "    print(f\"最適解：{best_solution}\")\n",
        "\n",
        "\n",
        "# グローバル変数（遺伝子長・突然変異率・評価関数・制約条件）を定義\n",
        "GENE_LENGTH = len(weight)\n",
        "# ZERO_TO_ONE = 5000 / np.mean(weight) / len(weight)\n",
        "w_func = lambda g: np.dot(g,weight)\n",
        "v_func = lambda g: np.dot(g,value)\n",
        "s_func = lambda w,v: v * (w < 5000)\n",
        "\n",
        "BruteFroce(w_func, v_func, s_func, GENE_LENGTH)"
      ],
      "execution_count": null,
      "outputs": [
        {
          "output_type": "stream",
          "text": [
            "最適重量：4900\n",
            "最適スコア：72\n",
            "最適解：[0 0 0 1 1 1 1 0 0 0 0]\n"
          ],
          "name": "stdout"
        }
      ]
    },
    {
      "cell_type": "markdown",
      "metadata": {
        "id": "wDrV4PAhRleD"
      },
      "source": [
        "# もっと物品の数が多い場合で試してみる\n",
        "http://ipr20.cs.ehime-u.ac.jp/column/ga/chapter4.html を参考にした。最適価値は不明。\n"
      ]
    },
    {
      "cell_type": "code",
      "metadata": {
        "id": "MKTJbNsQUScF"
      },
      "source": [
        "weight = [2,10,7,2,4,9,10,7,8,5,\n",
        "          3,10,9,8,8,5,7,3,9,7,\n",
        "          2,10,7,9,7,2,10,4,9,10,\n",
        "          4,7,8,5,2,3,10,9,7,8,\n",
        "          8,5,7,5,7,3,9,7,7,9]\n",
        "\n",
        "value = [21,22,28,21,12,24,15,2,25,28,\n",
        "         4,22,36,2,7,40,14,40,33,21,\n",
        "         28,22,14,36,28,21,18,12,24,15,\n",
        "         21,2,25,28,28,4,22,36,31,2,\n",
        "         7,40,14,4,28,40,33,35,21,20]\n",
        "\n",
        "# グローバル変数（遺伝子長・突然変異率・評価関数・制約条件）を定義\n",
        "GENE_LENGTH = len(weight)\n",
        "ZERO_TO_ONE = 40 / np.mean(weight) / len(weight)\n",
        "\n",
        "w_func = lambda g: np.dot(g,weight)\n",
        "v_func = lambda g: np.dot(g,value)\n",
        "s_func = lambda w,v: v * (w < 40)"
      ],
      "execution_count": null,
      "outputs": []
    },
    {
      "cell_type": "markdown",
      "metadata": {
        "id": "RhsGMwaPRZuH"
      },
      "source": [
        "また総当たりでやってみる"
      ]
    },
    {
      "cell_type": "code",
      "metadata": {
        "id": "DlzG4GCgRvz2"
      },
      "source": [
        "BruteFroce(w_func, v_func, s_func, GENE_LENGTH)"
      ],
      "execution_count": null,
      "outputs": []
    },
    {
      "cell_type": "markdown",
      "metadata": {
        "id": "4zYdUVtJR2Ej"
      },
      "source": [
        "Google Colaoratoryだと，メモリの容量が足りずクラッシュした。\n",
        "\n",
        "なぜなのか。また，どうすればよいのか。\n",
        "\n"
      ]
    },
    {
      "cell_type": "markdown",
      "metadata": {
        "id": "MhuM1NMNyvPm"
      },
      "source": [
        "# ブルートフォースがうまくいかない理由\n",
        "組み合わせ爆発が起こって，計算時間が膨大になるから。\n",
        "\n",
        "1つ目のナップザック問題の物品数：11個　⇒　組み合わせ数：2<sup>11</sup> ＝ 2048\n",
        "\n",
        "2つ目のナップザック問題の物品数：50個　⇒　組み合わせ数：2<sup>50</sup> ＝ 2<sup>10×5</sup> ＝ 1024<sup>5</sup> ＜ 10<sup>3×</sup><sup>5</sup> ＝ 10<sup>15</sup>\n"
      ]
    },
    {
      "cell_type": "markdown",
      "metadata": {
        "id": "jyV16QIpy3nK"
      },
      "source": [
        "# 解決策\n",
        "解を網羅的に探索するのではなく，部分的かつ効率的に探索すればよい。\n",
        "\n",
        "⇒遺伝的アルゴリズムの得意分野"
      ]
    },
    {
      "cell_type": "markdown",
      "metadata": {
        "id": "28QMx1-zzWZz"
      },
      "source": [
        "# 遺伝的アルゴリズムとは\n",
        "\n",
        "アルゴリズム(計算手法)の一種<br>\n",
        "・評価関数の全順序性と、探索空間が位相（トポロジー）を持っているという2条件を満たしていれば，どんな問題でも適用可能。<br>\n",
        "・特に，評価関数が微分不可能な場合，局所最適解が多数ある場合に有効（なはず）。"
      ]
    },
    {
      "cell_type": "markdown",
      "metadata": {
        "id": "6pAjcgK-39Ly"
      },
      "source": [
        "# アルゴリズムの概要\n",
        "\n",
        "準備<br>\n",
        "・問題の解を0と1の配列で表す。<br>\n",
        "・同時に探す解の個数：N，解を探索する期間：Gを決める。<br>\n",
        "\n",
        "メイン\n",
        "1. 解候補（個体）をランダムにN個生成する。\n",
        "2. 評価関数を用いて，各個体の適応度を計算する。\n",
        "3. 適応度に応じて，次世代へ継承する個体（エリート）を決定する。\n",
        "4. 2つのエリートをランダムに選び，それらを掛け合わせる。<br>\n",
        "5. 4で得られた個体に一定の確率で突然変異を生じさせながら，次の世代を生成する。\n",
        "6. 2~6を繰り返す。"
      ]
    },
    {
      "cell_type": "markdown",
      "metadata": {
        "id": "B7mduiZTVdnO"
      },
      "source": [
        "# 遺伝的アルゴリズムを実装してみる\n",
        "後ほど，異なるハイパーパラメータをもつ遺伝的アルゴリズム同士を比較したいため，量産が容易なようにクラスで書く。"
      ]
    },
    {
      "cell_type": "code",
      "metadata": {
        "id": "g-AlgKn4DsKa"
      },
      "source": [
        "# 遺伝的アルゴリズムをクラスで定義\n",
        "# GENE_LENGTH(遺伝子長)はグローバル変数\n",
        "\n",
        "class GeneticAlgorithm():\n",
        "    # 二進数から十進法に変換するメソッド\n",
        "    @staticmethod\n",
        "    def decode(matrix):\n",
        "        try:\n",
        "            d = [2**i for i in range(matrix.shape[1])]\n",
        "        except:\n",
        "            d = [2**i for i in range(len(matrix))]\n",
        "        return np.dot(matrix, d)\n",
        "\n",
        "    # 十進数から二進法に変換するメソッド\n",
        "    # べき乗判定の方法は次を参照 https://kenyu-life.com/2019/01/15/n_ampersamd_n-1equal0/\n",
        "    @classmethod\n",
        "    def encode(cls, n, temp=[], dev=128):\n",
        "        if (n == 0):\n",
        "            return temp\n",
        "        elif n >= 2*dev:\n",
        "            raise Exception(f\"input bigger than dev:{dev} error\")\n",
        "        elif (dev & (dev-1)):\n",
        "            raise Exception(\"devision value error\")\n",
        "        elif (dev <= n < 2*dev):\n",
        "            temp.insert(0,1)\n",
        "            return cls.encode(n-dev, temp, dev//2)\n",
        "        else:\n",
        "            temp.insert(0,0)\n",
        "            return cls.encode(n, temp, dev//2)\n",
        "\n",
        "    @staticmethod\n",
        "    def crossover(gene1, gene2):\n",
        "        crossover_point = np.random.randint(0,len(gene1))\n",
        "        temp = gene1[:crossover_point].copy()  # Numpyで書いているので，\"copy()\" がないと参照が返される\n",
        "        gene1[:crossover_point] = gene2[:crossover_point]\n",
        "        gene2[:crossover_point] = temp\n",
        "        return gene1, gene2\n",
        "\n",
        "    @staticmethod\n",
        "    def mutate(array ,prob_zero_to_one):\n",
        "        temp = np.zeros_like(array)\n",
        "        for i, element in enumerate(array):\n",
        "            if (element == 0 and np.random.rand() < prob_zero_to_one):\n",
        "                temp[i] = 1\n",
        "            elif (element == 1 and np.random.rand() < prob_zero_to_one):\n",
        "                temp[i] = 1\n",
        "        return temp\n",
        "\n",
        "    @classmethod\n",
        "    def crossover_general(cls, genes_matrix, elite_num):\n",
        "        new_genes = np.empty_like(genes_matrix)\n",
        "        index = np.arange(0,elite_num,1)\n",
        "        random.shuffle(index)\n",
        "        for i in range(elite_num//2):\n",
        "            new_genes[2*i,], new_genes[2*i+1] = cls.crossover(genes_matrix[index[2*i],], genes_matrix[index[2*i+1],])\n",
        "        return new_genes\n",
        "    \n",
        "    def __init__(self, population_num, generation_num, mutation_rate_zero_to_one, elite_num, w_func, v_func, s_func, zero_prob=None):\n",
        "        if (elite_num < 0 or elite_num > population_num):\n",
        "            raise Exception(\"elites num range error\")\n",
        "        \n",
        "        elif (elite_num%2 != 0):\n",
        "            raise Exception(\"elites num odd error\")\n",
        "\n",
        "        elif (not (0 <= mutation_rate_zero_to_one <= 1)):\n",
        "            raise Exception(\"mutation_rate_zero_to_one range error\")\n",
        "\n",
        "        # 遺伝的アルゴリズムのハイパーパラメータを定義\n",
        "        self.population_num = population_num\n",
        "        self.generation_num = generation_num\n",
        "        self.mutation_rate_zero_to_one = mutation_rate_zero_to_one\n",
        "        self.elite_num = elite_num\n",
        "        if (zero_prob is None):\n",
        "            self.zero_prob = 1 - self.mutation_rate_zero_to_one\n",
        "        else:\n",
        "            self.zero_prob = zero_prob\n",
        "            \n",
        "        # 遺伝子群と問題を定義\n",
        "        self.genes = np.random.choice([0,1], size = (population_num,GENE_LENGTH), p = [self.zero_prob,1-self.zero_prob])\n",
        "        self.w_func = w_func\n",
        "        self.v_func = v_func\n",
        "        self.s_func = s_func\n",
        "\n",
        "        # スコアの遷移と各世代の最良遺伝子を記録する箱を用意\n",
        "        self.score_transition = np.empty(self.generation_num)\n",
        "        self.best_gene_log = np.empty((self.generation_num, GENE_LENGTH))  # 最良解を記録する箱を用意\n",
        "        # self.diversity_transition = np.empty(self.generation_num)  # 多様性を記録する箱を用意(おまけ)\n",
        "\n",
        "    def run_genetic_algorithm(self):\n",
        "        \n",
        "        score_set = np.empty(self.population_num)\n",
        "        elite_genes = np.empty((self.elite_num, GENE_LENGTH))\n",
        "        \n",
        "        for generation in tqdm(range(self.generation_num)):\n",
        "\n",
        "            # 評価値を算出\n",
        "            weight_sum = self.w_func(self.genes)\n",
        "            value_sum = self.v_func(self.genes)\n",
        "            score_set = self.s_func(weight_sum, value_sum)\n",
        "\n",
        "            # 多様性を算出(おまけ)\n",
        "            # temp =  np.sum(self.genes, axis=0)\n",
        "            # self.diversity_transition[generation] = -np.sum(list(map(lambda x: max(x, self.population_num - x), temp))) / self.population_num\n",
        "\n",
        "            # 適応度が高い順に解候補のインデックスを取得\n",
        "            index = score_set.argsort()[::-1]\n",
        "\n",
        "            # 最良解のインデックスと遺伝子を記録\n",
        "            best_gene_index = index[0]\n",
        "            self.score_transition[generation] = np.max(score_set)\n",
        "            self.best_gene_log[generation, ] = self.genes[best_gene_index,]\n",
        "            \n",
        "            # 遺伝させる個体の遺伝子を取得\n",
        "            for i, elite_idx in enumerate(index[0:self.elite_num]):\n",
        "                elite_genes[i,] = self.genes[elite_idx,]\n",
        "\n",
        "            # エリート遺伝子群からランダムに2つの遺伝子を選び一点交叉させる\n",
        "            new_genes = self.crossover_general(elite_genes, self.elite_num)\n",
        "\n",
        "            # 世代交代\n",
        "            for i in range(self.population_num):\n",
        "                self.genes[i,] = self.mutate(new_genes[i%self.elite_num], self.mutation_rate_zero_to_one)\n",
        "                # self.genes[i,] = new_genes[i%self.elite_num]  #突然変異率を0にする(おまけ)\n",
        "\n",
        "        # 最良世代とその遺伝子を記録\n",
        "        self.best_generation = np.argmax(self.score_transition)\n",
        "        self.best_gene = self.best_gene_log[self.best_generation, ]"
      ],
      "execution_count": null,
      "outputs": []
    },
    {
      "cell_type": "markdown",
      "metadata": {
        "id": "VJVVxuJG_STT"
      },
      "source": [
        "# やってみること\n",
        "1. まずは，1つ目のナップザック問題を正しく解けるかどうか確かめてみる。<br>\n",
        "※突然変異率の設定に注意！\n",
        "\n",
        "2. 2つ目のナップザック問題に適用してみて，ふるまいを調べる。<br>\n",
        "※うまくとけなければ，個体数：population_num，世代数generation_num，次世代へ継承させる個体数：elite_numを変化させてみる。\n",
        "\n",
        "3. 1つ目，あるいは2つ目のナップザック問題を，ハイパーパラメータの異なる2つの遺伝的アルゴリズムで溶き，結果を比較してみる。<br>\n",
        "※下のコメントアウトを外してください。"
      ]
    },
    {
      "cell_type": "code",
      "metadata": {
        "colab": {
          "base_uri": "https://localhost:8080/",
          "height": 405
        },
        "id": "-LWD-1BAObMt",
        "outputId": "760d6204-4540-4333-ee83-e7b014876f37"
      },
      "source": [
        "ga1 = GeneticAlgorithm(population_num = 10,\n",
        "                       generation_num = 1000,\n",
        "                       mutation_rate_zero_to_one = ZERO_TO_ONE,\n",
        "                       elite_num = 2,\n",
        "                       w_func = w_func,\n",
        "                       v_func = v_func,\n",
        "                       s_func = s_func)\n",
        "ga1.run_genetic_algorithm()\n",
        "\n",
        "# こちらのGAのハイパーパラメータを色々変えてみる\n",
        "# ga2 = GeneticAlgorithm(population_num = 10,\n",
        "#                        generation_num = 1000,\n",
        "#                        mutation_rate_zero_to_one = 0.5,\n",
        "#                        elite_num = 2,\n",
        "#                        w_func = w_func,\n",
        "#                        v_func = v_func,\n",
        "#                        s_func = s_func)\n",
        "# ga2.run_genetic_algorithm()\n",
        "\n",
        "# 世代数と誤差の推移を図示\n",
        "plt.plot(np.arange(0,ga1.generation_num,1), ga1.score_transition, label = \"Score Transition 1\")\n",
        "# plt.plot(np.arange(0,ga2.generation_num,1), ga2.score_transition, label = \"Score Transition 2\")\n",
        "\n",
        "# plt.ylim(ymin=0)\n",
        "plt.tick_params(colors='white')\n",
        "plt.legend()\n",
        "plt.show()\n",
        "\n",
        "print(\"GA1の結果\")\n",
        "print(f\"最適重量：{ga1.w_func(ga1.best_gene)}\")\n",
        "print(f\"最適スコア：{ga1.v_func(ga1.best_gene)}\")\n",
        "print(f\"最適世代：{ga1.best_generation}\")\n",
        "# print(f\"np.log(3): {np.log(2.9)}\")\n",
        "# print(f\"最適解：{ga1.best_gene}\")\n",
        "# print(f\"10進数に復元：{GeneticAlgorithm.decode(ga1.best_gene)/10}\")\n",
        "# print()\n",
        "# print(\"GA2の結果\")\n",
        "# print(f\"最適重量：{ga1.w_func(ga1.best_gene)}\")\n",
        "# print(f\"最適スコア：{ga1.v_func(ga1.best_gene)}\")\n",
        "# print(f\"最適世代：{ga2.best_generation}\")\n",
        "# print(f\"最適遺伝子：{ga2.best_gene}\")"
      ],
      "execution_count": null,
      "outputs": [
        {
          "output_type": "stream",
          "text": [
            "100%|██████████| 1000/1000 [00:00<00:00, 4062.41it/s]\n"
          ],
          "name": "stderr"
        },
        {
          "output_type": "display_data",
          "data": {
            "image/png": "[encoded data removed]",
            "text/plain": [
              "<Figure size 432x288 with 1 Axes>"
            ]
          },
          "metadata": {
            "tags": [],
            "needs_background": "dark"
          }
        },
        {
          "output_type": "stream",
          "text": [
            "GA1の結果\n",
            "最適重量：0.10000000000000009\n",
            "最適スコア：1.0647110818199552\n",
            "最適世代：52\n",
            "np.log(3): 1.0647107369924282\n",
            "最適解：[1. 0. 1. 1. 1. 0. 0.]\n",
            "10進数に復元：2.9\n"
          ],
          "name": "stdout"
        }
      ]
    },
    {
      "cell_type": "code",
      "metadata": {
        "id": "_WWrgMqlVrZX"
      },
      "source": [
        "# 世代数と多様性の推移を図示\n",
        "plt.plot(np.arange(0,ga1.generation_num,1), ga1.diversity_transition, label =\"Diversity Transition 1\")\n",
        "plt.plot(np.arange(0,ga2.generation_num,1), ga2.diversity_transition, label =\"Diversity Transition 2\")\n",
        "\n",
        "plt.tick_params(colors='white')\n",
        "plt.legend()\n",
        "plt.show()\n",
        "\n",
        "print(\"平均値\")\n",
        "print(f\"GA1：{np.mean(ga1.diversity_transition)}\")\n",
        "print(f\"GA2：{np.mean(ga2.diversity_transition)}\")"
      ],
      "execution_count": null,
      "outputs": []
    },
    {
      "cell_type": "markdown",
      "metadata": {
        "id": "lh54vGdsV8NY"
      },
      "source": [
        "# 発展課題(+30分)\n",
        "「ナップザック問題なんか解けてもしょうがないんだけど」という人のために，遺伝的アルゴリズムを用いて非線形計画法を解く方法を紹介します。"
      ]
    },
    {
      "cell_type": "code",
      "metadata": {
        "colab": {
          "base_uri": "https://localhost:8080/",
          "height": 265
        },
        "id": "vv9iuYKVw0Mw",
        "outputId": "ab448a55-741f-4dae-9d7e-300ec660b2ce"
      },
      "source": [
        "# グローバル変数（遺伝子長・評価関数・制約条件）を定義\n",
        "GENE_LENGTH = len(GeneticAlgorithm.encode(50, temp=[]))\n",
        "\n",
        "w_func = lambda g: 3-GeneticAlgorithm.decode(g)/10\n",
        "v_func = lambda g: np.log(GeneticAlgorithm.decode(g)/10 + 10e-7)\n",
        "s_func = lambda w,v: v * (w > 0)\n",
        "# s_func = lambda w,v: v * (w > v)  # 交点を求める場合\n",
        "\n",
        "x = np.arange(1, 50, 1)\n",
        "weight = 3-x/10\n",
        "value = np.log(x/10)\n",
        "\n",
        "plt.plot(x/10, value, label =\"y=log(x)\")\n",
        "plt.plot(x/10, weight, label =\"y = 3-x\")\n",
        "plt.tick_params(colors='white')\n",
        "plt.legend()\n",
        "plt.show()"
      ],
      "execution_count": null,
      "outputs": [
        {
          "output_type": "display_data",
          "data": {
            "image/png": "[encoded data removed]",
            "text/plain": [
              "<Figure size 432x288 with 1 Axes>"
            ]
          },
          "metadata": {
            "tags": [],
            "needs_background": "dark"
          }
        }
      ]
    }
  ]
}